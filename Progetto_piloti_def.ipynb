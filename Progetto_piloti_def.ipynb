{
  "nbformat": 4,
  "nbformat_minor": 0,
  "metadata": {
    "colab": {
      "provenance": [],
      "mount_file_id": "1na4m1t9m19TfZuBKN_fPKaqpAEXoPjBs",
      "authorship_tag": "ABX9TyNh5AVW/66ldn23pEyBYtN+",
      "include_colab_link": true
    },
    "kernelspec": {
      "name": "python3",
      "display_name": "Python 3"
    },
    "language_info": {
      "name": "python"
    }
  },
  "cells": [
    {
      "cell_type": "markdown",
      "metadata": {
        "id": "view-in-github",
        "colab_type": "text"
      },
      "source": [
        "<a href=\"https://colab.research.google.com/github/riccardodisalvo/Dataviz-PowerBI/blob/main/Progetto_piloti_def.ipynb\" target=\"_parent\"><img src=\"https://colab.research.google.com/assets/colab-badge.svg\" alt=\"Open In Colab\"/></a>"
      ]
    },
    {
      "cell_type": "code",
      "source": [
        "# importo un file csv e definisco il suo percorso\n",
        "# creo una lista per contenere i dizionari apro il csv e leggo i dati converendoli in una lista di dizionari in cui le chiavi sono le colonne\n",
        "# istruisco un ciclo for dove per ogni riga nel csv viene restituito un Dict che viene aggiunto alla lista \"data_pilot\"\n",
        "# stampo le prime 7 righe per verifica"
      ],
      "metadata": {
        "id": "_mhtY61UosIQ"
      },
      "execution_count": null,
      "outputs": []
    },
    {
      "cell_type": "code",
      "source": [
        "import csv\n",
        "\n",
        "file_path = '/content/Progetto:Classifica piloti formula 1/formula1_data.csv'\n",
        "data_pilot = []\n",
        "\n",
        "with open(file_path, mode = 'r', newline = '') as file:\n",
        "    csv_reader = csv.DictReader(file)\n",
        "\n",
        "    for row in csv_reader:\n",
        "      data_pilot.append(row)\n",
        "\n",
        "for riga in data_pilot[:7] :\n",
        "  print(riga)"
      ],
      "metadata": {
        "colab": {
          "base_uri": "https://localhost:8080/"
        },
        "id": "IqaWehj7ZXUm",
        "outputId": "de05a772-bec5-4c37-e630-cdaecd190d5e"
      },
      "execution_count": null,
      "outputs": [
        {
          "output_type": "stream",
          "name": "stdout",
          "text": [
            "{'Driver': 'Hamilton', 'Team': 'McLaren', 'Race': 'Melbourne', 'Country': 'Australia', 'Position': '1'}\n",
            "{'Driver': 'Massa', 'Team': 'Ferrari', 'Race': 'Melbourne', 'Country': 'Australia', 'Position': '0'}\n",
            "{'Driver': 'Raikkonen', 'Team': 'Ferrari', 'Race': 'Melbourne', 'Country': 'Australia', 'Position': '8'}\n",
            "{'Driver': 'Kubica', 'Team': 'BMW', 'Race': 'Melbourne', 'Country': 'Australia', 'Position': '0'}\n",
            "{'Driver': 'Alonso', 'Team': 'Renault', 'Race': 'Melbourne', 'Country': 'Australia', 'Position': '4'}\n",
            "{'Driver': 'Heidfeld', 'Team': 'BMW', 'Race': 'Melbourne', 'Country': 'Australia', 'Position': '2'}\n",
            "{'Driver': 'Kovalainen', 'Team': 'McLaren', 'Race': 'Melbourne', 'Country': 'Australia', 'Position': '5'}\n"
          ]
        }
      ]
    },
    {
      "cell_type": "code",
      "source": [
        "# prima funzione\n",
        "# stabilisco in un dizinario il sistema di punteggio\n",
        "# utilizzo il cilco for per iterare su ogni riga del data_pilot, attribuisco con i valori booleani le vittorie e podi\n",
        "# uso il metodo get per ottenere i punti associati a una determinata posizione, restituiendo automaticamente 0  se la posizione non è presente nel Dict\n",
        "# stampo come verifica le statistiche del pilota 'Massa' generando una lista\n"
      ],
      "metadata": {
        "id": "sGx2KM9Vpsf0"
      },
      "execution_count": null,
      "outputs": []
    },
    {
      "cell_type": "code",
      "source": [
        "scoring_system = {\n",
        "    1:10,\n",
        "    2:8,\n",
        "    3:6,\n",
        "    4:5,\n",
        "    5:4,\n",
        "    6:3,\n",
        "    7:2,\n",
        "    8:1\n",
        "}\n",
        "\n",
        "def get_pilot_stats(data_pilot, pilot_name):\n",
        "    total_points = 0\n",
        "    victories = 0\n",
        "    podiums = 0\n",
        "\n",
        "    for row in data_pilot:\n",
        "        if row ['Driver'] == pilot_name:\n",
        "          Position = int(row.get('Position', 0))\n",
        "          total_points += scoring_system.get(Position, 0)\n",
        "\n",
        "          if Position ==1:\n",
        "              victories += 1\n",
        "\n",
        "          if 1<= Position <= 3:\n",
        "              podiums += 1\n",
        "\n",
        "    return total_points, victories, podiums\n",
        "\n",
        "pilot_name = 'Massa'\n",
        "stats = get_pilot_stats(data_pilot, pilot_name)\n",
        "print(f\"Stats for {pilot_name}: Points: {stats[0]}, Victories: {stats[1]}, Podium: {stats[2]}\")"
      ],
      "metadata": {
        "id": "HQZR0A9KUOXt",
        "colab": {
          "base_uri": "https://localhost:8080/"
        },
        "outputId": "a1fd30e7-28a7-4a75-c6a1-77b1ad52de21"
      },
      "execution_count": null,
      "outputs": [
        {
          "output_type": "stream",
          "name": "stdout",
          "text": [
            "Stats for Massa: Points: 97, Victories: 6, Podium: 10\n"
          ]
        }
      ]
    },
    {
      "cell_type": "code",
      "source": [
        "# seconda funzione\n",
        "# definisco una funzione che calcola il totale dei punteggi\n",
        "# creo un dict vuoto che poi conterrà le informazioni sul Driver e il Punteggio\n",
        "# utilizzo il ciclio for per iterare su ciascuna riga del ' data_pilot', estraggo il nome del Driver dalla riga in cui itero\n",
        "# estraggo la posizione utilizzando il medoto get perchè se la posisiozione non è disponibile assume un valore 0\n",
        "# assegno il punteggio associato alla posizione corrente del dict del punteggio,\n",
        "# se il Driver è gia presente nel dict la funione aggiunge i punti al totale per Driver\n",
        "# in driver_points memorizzo i punti totali per Driver\n",
        "# ordino in maniera decrescende in una lista di dizionari e scrivo i risultati in un file di testo, faccio un print dal file per verifica\n"
      ],
      "metadata": {
        "id": "MOrSZFGOuiCG"
      },
      "execution_count": null,
      "outputs": []
    },
    {
      "cell_type": "code",
      "source": [
        "def total_points(data_pilot):\n",
        "    points_dict = {}\n",
        "\n",
        "    for row in data_pilot:\n",
        "      driver = row['Driver']\n",
        "      Position = int(row.get('Position', 0))\n",
        "      points = scoring_system.get(Position, 0)\n",
        "\n",
        "      if driver in points_dict:\n",
        "          points_dict[driver] += points\n",
        "      else:\n",
        "          points_dict[driver] = points\n",
        "\n",
        "    return points_dict\n",
        "\n",
        "driver_points = total_points(data_pilot)\n",
        "\n",
        "ordinated_driver_points = [\n",
        "    {'Driver': driver, 'points': points} for driver, points in sorted(driver_points.items(), key=lambda item: item[1], reverse=True)\n",
        "]\n",
        "with open('Drivers_Standings_2008.txt', 'w') as file:\n",
        "      file.write('Drivers Standings 2008 Formula 1 \\n')\n",
        "      for entry in ordinated_driver_points:\n",
        "          file.write(f\"{entry['Driver']}: {entry['points']}\\n\")\n",
        "\n",
        "with open('Drivers_Standings_2008.txt', 'r') as file:\n",
        "    print(file.read())\n"
      ],
      "metadata": {
        "colab": {
          "base_uri": "https://localhost:8080/"
        },
        "id": "8HxsB6n5JNix",
        "outputId": "ce67eaef-ec36-4184-e7c8-ae5c806bfb9e"
      },
      "execution_count": null,
      "outputs": [
        {
          "output_type": "stream",
          "name": "stdout",
          "text": [
            "Drivers Standings 2008 Formula 1 \n",
            "Hamilton: 98\n",
            "Massa: 97\n",
            "Raikkonen: 75\n",
            "Kubica: 75\n",
            "Alonso: 61\n",
            "Heidfeld: 60\n",
            "Kovalainen: 53\n",
            "Vettel: 35\n",
            "Trulli: 31\n",
            "Glock: 25\n",
            "\n"
          ]
        }
      ]
    },
    {
      "cell_type": "code",
      "source": [
        "# terza funzione\n",
        "# definisco una funzione che calcola il totale dei punti del team, servendomi anche dei dati 'driver_points' elaborati nella funzione #2\n",
        "# creo un dict vuoto che poi conterrà le informazioni desiderate (totale punteggi per team)\n",
        "# istruisco un ciclo for per iterare su ogni riga del data_pilot e driver_points e attraverso i valori booleani assegno i punteggi ai driver\n",
        "# istruisco una funzione con i dati già ordinati, volendo in output una 'classifica' dei team in una lista di dizionarii"
      ],
      "metadata": {
        "id": "xLe-kTprZPM0"
      },
      "execution_count": null,
      "outputs": []
    },
    {
      "cell_type": "code",
      "source": [
        "def total_team_points(data_pilot, driver_points):\n",
        "    team_points = {}\n",
        "\n",
        "    for row in data_pilot:\n",
        "      driver = row['Driver']\n",
        "      team = row['Team']\n",
        "      points = driver_points.get(driver, 0)\n",
        "\n",
        "      if team in team_points:\n",
        "          team_points[team] += points\n",
        "      else:\n",
        "          team_points[team] = points\n",
        "\n",
        "    ordinated_team_points = [\n",
        "        {'Team': team, 'Points': points} for team, points in sorted(team_points.items(), key=lambda item: item[1], reverse = True)\n",
        "    ]\n",
        "    return team_points\n",
        "\n",
        "team_points = total_team_points(data_pilot, driver_points)\n",
        "\n",
        "print('Classifica dei Team:')\n",
        "for team, points in ordinated_team_points:\n",
        "  print(f\"Team {team}: {points} punti\")\n",
        "\n"
      ],
      "metadata": {
        "colab": {
          "base_uri": "https://localhost:8080/"
        },
        "id": "bRpFZWZf3zXu",
        "outputId": "c274fa4e-9542-46a8-ee4e-8ed39e494a0b"
      },
      "execution_count": null,
      "outputs": [
        {
          "output_type": "stream",
          "name": "stdout",
          "text": [
            "Classifica dei Team:\n",
            "Team Ferrari: 3096 punti\n",
            "Team McLaren: 2718 punti\n",
            "Team BMW: 2430 punti\n",
            "Team Renault: 1098 punti\n",
            "Team Toyota: 1008 punti\n",
            "Team Toro Rosso: 630 punti\n"
          ]
        }
      ]
    }
  ]
}